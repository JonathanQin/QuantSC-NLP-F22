{
 "cells": [
  {
   "cell_type": "code",
   "execution_count": 2,
   "metadata": {
    "collapsed": true
   },
   "outputs": [],
   "source": [
    "import numpy as np\n",
    "import pandas as pd\n",
    "import dask.dataframe as dd\n",
    "import seaborn as sns\n",
    "from transformers import AutoTokenizer, AutoModelForSequenceClassification, pipeline\n",
    "import dateparser\n",
    "import datetime\n",
    "from datetime import datetime\n",
    "import torch\n",
    "import yfinance as yf"
   ]
  },
  {
   "cell_type": "code",
   "execution_count": 3,
   "outputs": [],
   "source": [
    "tokenizer = AutoTokenizer.from_pretrained(\"ProsusAI/finbert\")\n",
    "model = AutoModelForSequenceClassification.from_pretrained(\"ProsusAI/finbert\")"
   ],
   "metadata": {
    "collapsed": false
   }
  },
  {
   "cell_type": "code",
   "execution_count": 4,
   "outputs": [
    {
     "data": {
      "text/plain": "[[{'label': 'positive', 'score': 0.925235390663147},\n  {'label': 'neutral', 'score': 0.043563127517700195},\n  {'label': 'negative', 'score': 0.03120151162147522}],\n [{'label': 'negative', 'score': 0.9688035249710083},\n  {'label': 'neutral', 'score': 0.02160501480102539},\n  {'label': 'positive', 'score': 0.00959145650267601}]]"
     },
     "execution_count": 4,
     "metadata": {},
     "output_type": "execute_result"
    }
   ],
   "source": [
    "classifier = pipeline(\"sentiment-analysis\", model=model, tokenizer=tokenizer, top_k=None)\n",
    "test = [\"China's GDP hits highest in decades, beating the USA by 5 percentage points.\", \"declining growth and high discount rates plague the nation\"]\n",
    "classifier(test)"
   ],
   "metadata": {
    "collapsed": false
   }
  },
  {
   "cell_type": "code",
   "execution_count": 5,
   "outputs": [
    {
     "name": "stdout",
     "output_type": "stream",
     "text": [
      "Index(['Unnamed: 0', 'headlines', 'dates', 'summaries'], dtype='object')\n"
     ]
    },
    {
     "data": {
      "text/plain": "   Unnamed: 0                                          headlines  \\\n0           0  BlackRock Scales Back Private-Equity Fund Ambi...   \n1           1  The Benefits of Sticking to New Year’s Resolut...   \n2           2    Five Investment Trends That Skyrocketed in 2020   \n3           3  These Tiny Last-Minute Tax Changes Could Be a ...   \n4           4       The Hot Battery Startup That Could Zap Tesla   \n\n                     dates                                          summaries  \n0  Jan. 1, 2021 5:30 am ET  BlackRock  Inc.  planned to shake up the priva...  \n1  Jan. 1, 2021 5:30 am ET  Mark this date on your calendar: March 7. That...  \n2  Jan. 1, 2021 5:30 am ET  U.S. stocks have arrived at their record-setti...  \n3  Jan. 1, 2021 5:30 am ET  With taxes, small changes often add up to big ...  \n4  Jan. 1, 2021 5:30 am ET  One of the wildest plotlines in the great 2020...  ",
      "text/html": "<div>\n<style scoped>\n    .dataframe tbody tr th:only-of-type {\n        vertical-align: middle;\n    }\n\n    .dataframe tbody tr th {\n        vertical-align: top;\n    }\n\n    .dataframe thead th {\n        text-align: right;\n    }\n</style>\n<table border=\"1\" class=\"dataframe\">\n  <thead>\n    <tr style=\"text-align: right;\">\n      <th></th>\n      <th>Unnamed: 0</th>\n      <th>headlines</th>\n      <th>dates</th>\n      <th>summaries</th>\n    </tr>\n  </thead>\n  <tbody>\n    <tr>\n      <th>0</th>\n      <td>0</td>\n      <td>BlackRock Scales Back Private-Equity Fund Ambi...</td>\n      <td>Jan. 1, 2021 5:30 am ET</td>\n      <td>BlackRock  Inc.  planned to shake up the priva...</td>\n    </tr>\n    <tr>\n      <th>1</th>\n      <td>1</td>\n      <td>The Benefits of Sticking to New Year’s Resolut...</td>\n      <td>Jan. 1, 2021 5:30 am ET</td>\n      <td>Mark this date on your calendar: March 7. That...</td>\n    </tr>\n    <tr>\n      <th>2</th>\n      <td>2</td>\n      <td>Five Investment Trends That Skyrocketed in 2020</td>\n      <td>Jan. 1, 2021 5:30 am ET</td>\n      <td>U.S. stocks have arrived at their record-setti...</td>\n    </tr>\n    <tr>\n      <th>3</th>\n      <td>3</td>\n      <td>These Tiny Last-Minute Tax Changes Could Be a ...</td>\n      <td>Jan. 1, 2021 5:30 am ET</td>\n      <td>With taxes, small changes often add up to big ...</td>\n    </tr>\n    <tr>\n      <th>4</th>\n      <td>4</td>\n      <td>The Hot Battery Startup That Could Zap Tesla</td>\n      <td>Jan. 1, 2021 5:30 am ET</td>\n      <td>One of the wildest plotlines in the great 2020...</td>\n    </tr>\n  </tbody>\n</table>\n</div>"
     },
     "execution_count": 5,
     "metadata": {},
     "output_type": "execute_result"
    }
   ],
   "source": [
    "wsj2021_df = pd.read_csv('wsjData/wsjData_2021.csv')\n",
    "print(wsj2021_df.columns)\n",
    "wsj2021_df.head()"
   ],
   "metadata": {
    "collapsed": false
   }
  },
  {
   "cell_type": "code",
   "execution_count": 6,
   "outputs": [
    {
     "name": "stdout",
     "output_type": "stream",
     "text": [
      "2021-01-01 05:30:00\n",
      "2021-01-01 05:30:00\n",
      "2021-01-01 05:30:00\n",
      "2021-01-01 05:30:00\n",
      "2021-01-01 05:30:00\n",
      "2021-01-01 07:00:00\n",
      "2021-01-01 07:00:00\n",
      "2021-01-01 07:00:00\n",
      "2021-01-01 07:00:00\n",
      "2021-01-01 08:00:00\n",
      "2021-01-01 08:36:00\n",
      "2021-01-01 09:00:00\n",
      "2021-01-01 09:00:00\n",
      "2021-01-01 09:00:00\n",
      "2021-01-01 10:35:00\n",
      "2021-01-01 11:00:00\n",
      "2021-01-01 11:08:00\n",
      "2021-01-01 11:16:00\n",
      "2021-01-01 11:28:00\n",
      "2021-01-01 11:29:00\n"
     ]
    }
   ],
   "source": [
    "for i in wsj2021_df[\"dates\"][0:20]:\n",
    "    if i is None:\n",
    "        continue\n",
    "    elif \"Updated\" in i:\n",
    "        datetime = datetime.strptime(i, 'Updated %b. %d, %Y %I:%M %p ET')\n",
    "    else:\n",
    "        datetime = datetime.strptime(i, '%b. %d, %Y %I:%M %p ET')\n",
    "    print(datetime)"
   ],
   "metadata": {
    "collapsed": false
   }
  },
  {
   "cell_type": "code",
   "execution_count": 7,
   "outputs": [],
   "source": [
    "# general market\n",
    "# banking / finance / business\n",
    "# technology, software, electronics\n",
    "# pharmaceutical, disease, medicine, doctors\n",
    "# weapons, war, defense\n",
    "# real estate, housing, home, building, construction\n",
    "# energy, water, oil, gas, electricity\n",
    "start, end = 0, 10\n",
    "X_headlines = wsj2021_df[\"headlines\"][start:end].tolist()\n",
    "x_summaries = wsj2021_df[\"summaries\"][start:end].tolist()\n",
    "y = classifier(X_headlines)"
   ],
   "metadata": {
    "collapsed": false
   }
  },
  {
   "cell_type": "code",
   "execution_count": 22,
   "outputs": [
    {
     "name": "stdout",
     "output_type": "stream",
     "text": [
      "[*********************100%***********************]  1 of 1 completed\n"
     ]
    },
    {
     "data": {
      "text/plain": "<Figure size 432x288 with 1 Axes>",
      "image/png": "[encoded data removed]"
     },
     "metadata": {
      "needs_background": "light"
     },
     "output_type": "display_data"
    },
    {
     "name": "stdout",
     "output_type": "stream",
     "text": [
      "<class 'pandas.core.frame.DataFrame'> Index(['Open', 'High', 'Low', 'Close', 'Adj Close', 'Volume'], dtype='object') Index(['Open', 'High', 'Low', 'Close', 'Adj Close', 'Volume'], dtype='object')\n",
      "Open         3.753100e+02\n",
      "High         3.754500e+02\n",
      "Low          3.648200e+02\n",
      "Close        3.687900e+02\n",
      "Adj Close    3.597733e+02\n",
      "Volume       1.102108e+08\n",
      "Name: 2021-01-04 00:00:00, dtype: float64 2021-01-04 00:00:00\n"
     ]
    }
   ],
   "source": [
    "import matplotlib.pyplot as plt\n",
    "\n",
    "spy = yf.download(\"SPY\", start = \"2021-01-01\", end = \"2021-12-31\", interval='1d')\n",
    "plt.plot(spy)\n",
    "plt.show()\n",
    "print(type(spy), spy.columns, spy.columns)\n",
    "print(spy.iloc[0], spy.iloc[0].name)"
   ],
   "metadata": {
    "collapsed": false
   }
  },
  {
   "cell_type": "code",
   "execution_count": 8,
   "outputs": [],
   "source": [],
   "metadata": {
    "collapsed": false
   }
  }
 ],
 "metadata": {
  "kernelspec": {
   "display_name": "Python 3",
   "language": "python",
   "name": "python3"
  },
  "language_info": {
   "codemirror_mode": {
    "name": "ipython",
    "version": 2
   },
   "file_extension": ".py",
   "mimetype": "text/x-python",
   "name": "python",
   "nbconvert_exporter": "python",
   "pygments_lexer": "ipython2",
   "version": "2.7.6"
  }
 },
 "nbformat": 4,
 "nbformat_minor": 0
}
